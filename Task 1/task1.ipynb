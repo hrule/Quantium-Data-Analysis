{
 "cells": [
  {
   "cell_type": "markdown",
   "metadata": {},
   "source": [
    "# Task 1"
   ]
  },
  {
   "cell_type": "code",
   "execution_count": 2,
   "metadata": {},
   "outputs": [],
   "source": [
    "import pandas as pd\n",
    "import datetime as dt\n",
    "import typing\n",
    "import matplotlib.pyplot as plt"
   ]
  },
  {
   "cell_type": "code",
   "execution_count": 72,
   "metadata": {},
   "outputs": [],
   "source": [
    "purchase_behaviour = pd.read_csv(\"resources/QVI_purchase_behaviour.csv\")\n",
    "transaction_data = pd.read_excel(\"resources/QVI_transaction_data.xlsx\") # An excel file with 1 sheet named 'in'"
   ]
  },
  {
   "cell_type": "code",
   "execution_count": 73,
   "metadata": {},
   "outputs": [
    {
     "data": {
      "text/html": [
       "<div>\n",
       "<style scoped>\n",
       "    .dataframe tbody tr th:only-of-type {\n",
       "        vertical-align: middle;\n",
       "    }\n",
       "\n",
       "    .dataframe tbody tr th {\n",
       "        vertical-align: top;\n",
       "    }\n",
       "\n",
       "    .dataframe thead th {\n",
       "        text-align: right;\n",
       "    }\n",
       "</style>\n",
       "<table border=\"1\" class=\"dataframe\">\n",
       "  <thead>\n",
       "    <tr style=\"text-align: right;\">\n",
       "      <th></th>\n",
       "      <th>LYLTY_CARD_NBR</th>\n",
       "      <th>LIFESTAGE</th>\n",
       "      <th>PREMIUM_CUSTOMER</th>\n",
       "    </tr>\n",
       "  </thead>\n",
       "  <tbody>\n",
       "    <tr>\n",
       "      <th>0</th>\n",
       "      <td>1000</td>\n",
       "      <td>YOUNG SINGLES/COUPLES</td>\n",
       "      <td>Premium</td>\n",
       "    </tr>\n",
       "    <tr>\n",
       "      <th>1</th>\n",
       "      <td>1002</td>\n",
       "      <td>YOUNG SINGLES/COUPLES</td>\n",
       "      <td>Mainstream</td>\n",
       "    </tr>\n",
       "    <tr>\n",
       "      <th>2</th>\n",
       "      <td>1003</td>\n",
       "      <td>YOUNG FAMILIES</td>\n",
       "      <td>Budget</td>\n",
       "    </tr>\n",
       "    <tr>\n",
       "      <th>3</th>\n",
       "      <td>1004</td>\n",
       "      <td>OLDER SINGLES/COUPLES</td>\n",
       "      <td>Mainstream</td>\n",
       "    </tr>\n",
       "    <tr>\n",
       "      <th>4</th>\n",
       "      <td>1005</td>\n",
       "      <td>MIDAGE SINGLES/COUPLES</td>\n",
       "      <td>Mainstream</td>\n",
       "    </tr>\n",
       "  </tbody>\n",
       "</table>\n",
       "</div>"
      ],
      "text/plain": [
       "   LYLTY_CARD_NBR               LIFESTAGE PREMIUM_CUSTOMER\n",
       "0            1000   YOUNG SINGLES/COUPLES          Premium\n",
       "1            1002   YOUNG SINGLES/COUPLES       Mainstream\n",
       "2            1003          YOUNG FAMILIES           Budget\n",
       "3            1004   OLDER SINGLES/COUPLES       Mainstream\n",
       "4            1005  MIDAGE SINGLES/COUPLES       Mainstream"
      ]
     },
     "execution_count": 73,
     "metadata": {},
     "output_type": "execute_result"
    }
   ],
   "source": [
    "purchase_behaviour.head()"
   ]
  },
  {
   "cell_type": "markdown",
   "metadata": {},
   "source": [
    "## Purchase Behaviour Cleaning"
   ]
  },
  {
   "cell_type": "markdown",
   "metadata": {},
   "source": [
    "It seems as though LYLTY_CARD_NBR is a four digit ID while LIFESTAGE and PREMIUM_CUSTOMER are categorical variables. Lets first do some null checks.  "
   ]
  },
  {
   "cell_type": "code",
   "execution_count": 74,
   "metadata": {},
   "outputs": [
    {
     "name": "stdout",
     "output_type": "stream",
     "text": [
      "<class 'pandas.core.frame.DataFrame'>\n",
      "RangeIndex: 72637 entries, 0 to 72636\n",
      "Data columns (total 3 columns):\n",
      " #   Column            Non-Null Count  Dtype \n",
      "---  ------            --------------  ----- \n",
      " 0   LYLTY_CARD_NBR    72637 non-null  int64 \n",
      " 1   LIFESTAGE         72637 non-null  object\n",
      " 2   PREMIUM_CUSTOMER  72637 non-null  object\n",
      "dtypes: int64(1), object(2)\n",
      "memory usage: 1.7+ MB\n"
     ]
    }
   ],
   "source": [
    "purchase_behaviour.info()"
   ]
  },
  {
   "cell_type": "code",
   "execution_count": 75,
   "metadata": {},
   "outputs": [
    {
     "data": {
      "text/html": [
       "<div>\n",
       "<style scoped>\n",
       "    .dataframe tbody tr th:only-of-type {\n",
       "        vertical-align: middle;\n",
       "    }\n",
       "\n",
       "    .dataframe tbody tr th {\n",
       "        vertical-align: top;\n",
       "    }\n",
       "\n",
       "    .dataframe thead th {\n",
       "        text-align: right;\n",
       "    }\n",
       "</style>\n",
       "<table border=\"1\" class=\"dataframe\">\n",
       "  <thead>\n",
       "    <tr style=\"text-align: right;\">\n",
       "      <th></th>\n",
       "      <th>LIFESTAGE</th>\n",
       "      <th>PREMIUM_CUSTOMER</th>\n",
       "    </tr>\n",
       "  </thead>\n",
       "  <tbody>\n",
       "    <tr>\n",
       "      <th>count</th>\n",
       "      <td>72637</td>\n",
       "      <td>72637</td>\n",
       "    </tr>\n",
       "    <tr>\n",
       "      <th>unique</th>\n",
       "      <td>7</td>\n",
       "      <td>3</td>\n",
       "    </tr>\n",
       "    <tr>\n",
       "      <th>top</th>\n",
       "      <td>RETIREES</td>\n",
       "      <td>Mainstream</td>\n",
       "    </tr>\n",
       "    <tr>\n",
       "      <th>freq</th>\n",
       "      <td>14805</td>\n",
       "      <td>29245</td>\n",
       "    </tr>\n",
       "  </tbody>\n",
       "</table>\n",
       "</div>"
      ],
      "text/plain": [
       "       LIFESTAGE PREMIUM_CUSTOMER\n",
       "count      72637            72637\n",
       "unique         7                3\n",
       "top     RETIREES       Mainstream\n",
       "freq       14805            29245"
      ]
     },
     "execution_count": 75,
     "metadata": {},
     "output_type": "execute_result"
    }
   ],
   "source": [
    "purchase_behaviour.describe(include=[\"O\"])"
   ]
  },
  {
   "cell_type": "code",
   "execution_count": 76,
   "metadata": {},
   "outputs": [],
   "source": [
    "for col in purchase_behaviour.columns:\n",
    "    if purchase_behaviour[col].hasnans:\n",
    "        print(col)"
   ]
  },
  {
   "cell_type": "code",
   "execution_count": 77,
   "metadata": {},
   "outputs": [
    {
     "data": {
      "text/plain": [
       "array(['YOUNG SINGLES/COUPLES', 'YOUNG FAMILIES', 'OLDER SINGLES/COUPLES',\n",
       "       'MIDAGE SINGLES/COUPLES', 'NEW FAMILIES', 'OLDER FAMILIES',\n",
       "       'RETIREES'], dtype=object)"
      ]
     },
     "execution_count": 77,
     "metadata": {},
     "output_type": "execute_result"
    }
   ],
   "source": [
    "purchase_behaviour['LIFESTAGE'].unique()"
   ]
  },
  {
   "cell_type": "code",
   "execution_count": 78,
   "metadata": {},
   "outputs": [
    {
     "data": {
      "text/plain": [
       "array(['Premium', 'Mainstream', 'Budget'], dtype=object)"
      ]
     },
     "execution_count": 78,
     "metadata": {},
     "output_type": "execute_result"
    }
   ],
   "source": [
    "purchase_behaviour['PREMIUM_CUSTOMER'].unique()"
   ]
  },
  {
   "cell_type": "code",
   "execution_count": 79,
   "metadata": {},
   "outputs": [
    {
     "data": {
      "text/html": [
       "<div>\n",
       "<style scoped>\n",
       "    .dataframe tbody tr th:only-of-type {\n",
       "        vertical-align: middle;\n",
       "    }\n",
       "\n",
       "    .dataframe tbody tr th {\n",
       "        vertical-align: top;\n",
       "    }\n",
       "\n",
       "    .dataframe thead th {\n",
       "        text-align: right;\n",
       "    }\n",
       "</style>\n",
       "<table border=\"1\" class=\"dataframe\">\n",
       "  <thead>\n",
       "    <tr style=\"text-align: right;\">\n",
       "      <th></th>\n",
       "      <th>LYLTY_CARD_NBR</th>\n",
       "      <th>LIFESTAGE</th>\n",
       "      <th>PREMIUM_CUSTOMER</th>\n",
       "    </tr>\n",
       "  </thead>\n",
       "  <tbody>\n",
       "    <tr>\n",
       "      <th>72632</th>\n",
       "      <td>2370651</td>\n",
       "      <td>MIDAGE SINGLES/COUPLES</td>\n",
       "      <td>Mainstream</td>\n",
       "    </tr>\n",
       "    <tr>\n",
       "      <th>72633</th>\n",
       "      <td>2370701</td>\n",
       "      <td>YOUNG FAMILIES</td>\n",
       "      <td>Mainstream</td>\n",
       "    </tr>\n",
       "    <tr>\n",
       "      <th>72634</th>\n",
       "      <td>2370751</td>\n",
       "      <td>YOUNG FAMILIES</td>\n",
       "      <td>Premium</td>\n",
       "    </tr>\n",
       "    <tr>\n",
       "      <th>72635</th>\n",
       "      <td>2370961</td>\n",
       "      <td>OLDER FAMILIES</td>\n",
       "      <td>Budget</td>\n",
       "    </tr>\n",
       "    <tr>\n",
       "      <th>72636</th>\n",
       "      <td>2373711</td>\n",
       "      <td>YOUNG SINGLES/COUPLES</td>\n",
       "      <td>Mainstream</td>\n",
       "    </tr>\n",
       "  </tbody>\n",
       "</table>\n",
       "</div>"
      ],
      "text/plain": [
       "       LYLTY_CARD_NBR               LIFESTAGE PREMIUM_CUSTOMER\n",
       "72632         2370651  MIDAGE SINGLES/COUPLES       Mainstream\n",
       "72633         2370701          YOUNG FAMILIES       Mainstream\n",
       "72634         2370751          YOUNG FAMILIES          Premium\n",
       "72635         2370961          OLDER FAMILIES           Budget\n",
       "72636         2373711   YOUNG SINGLES/COUPLES       Mainstream"
      ]
     },
     "execution_count": 79,
     "metadata": {},
     "output_type": "execute_result"
    }
   ],
   "source": [
    "purchase_behaviour.tail()"
   ]
  },
  {
   "cell_type": "markdown",
   "metadata": {},
   "source": [
    "## Transaction Data Cleaning"
   ]
  },
  {
   "cell_type": "code",
   "execution_count": 80,
   "metadata": {},
   "outputs": [
    {
     "data": {
      "text/html": [
       "<div>\n",
       "<style scoped>\n",
       "    .dataframe tbody tr th:only-of-type {\n",
       "        vertical-align: middle;\n",
       "    }\n",
       "\n",
       "    .dataframe tbody tr th {\n",
       "        vertical-align: top;\n",
       "    }\n",
       "\n",
       "    .dataframe thead th {\n",
       "        text-align: right;\n",
       "    }\n",
       "</style>\n",
       "<table border=\"1\" class=\"dataframe\">\n",
       "  <thead>\n",
       "    <tr style=\"text-align: right;\">\n",
       "      <th></th>\n",
       "      <th>DATE</th>\n",
       "      <th>STORE_NBR</th>\n",
       "      <th>LYLTY_CARD_NBR</th>\n",
       "      <th>TXN_ID</th>\n",
       "      <th>PROD_NBR</th>\n",
       "      <th>PROD_NAME</th>\n",
       "      <th>PROD_QTY</th>\n",
       "      <th>TOT_SALES</th>\n",
       "    </tr>\n",
       "  </thead>\n",
       "  <tbody>\n",
       "    <tr>\n",
       "      <th>0</th>\n",
       "      <td>43390</td>\n",
       "      <td>1</td>\n",
       "      <td>1000</td>\n",
       "      <td>1</td>\n",
       "      <td>5</td>\n",
       "      <td>Natural Chip        Compny SeaSalt175g</td>\n",
       "      <td>2</td>\n",
       "      <td>6.0</td>\n",
       "    </tr>\n",
       "    <tr>\n",
       "      <th>1</th>\n",
       "      <td>43599</td>\n",
       "      <td>1</td>\n",
       "      <td>1307</td>\n",
       "      <td>348</td>\n",
       "      <td>66</td>\n",
       "      <td>CCs Nacho Cheese    175g</td>\n",
       "      <td>3</td>\n",
       "      <td>6.3</td>\n",
       "    </tr>\n",
       "    <tr>\n",
       "      <th>2</th>\n",
       "      <td>43605</td>\n",
       "      <td>1</td>\n",
       "      <td>1343</td>\n",
       "      <td>383</td>\n",
       "      <td>61</td>\n",
       "      <td>Smiths Crinkle Cut  Chips Chicken 170g</td>\n",
       "      <td>2</td>\n",
       "      <td>2.9</td>\n",
       "    </tr>\n",
       "    <tr>\n",
       "      <th>3</th>\n",
       "      <td>43329</td>\n",
       "      <td>2</td>\n",
       "      <td>2373</td>\n",
       "      <td>974</td>\n",
       "      <td>69</td>\n",
       "      <td>Smiths Chip Thinly  S/Cream&amp;Onion 175g</td>\n",
       "      <td>5</td>\n",
       "      <td>15.0</td>\n",
       "    </tr>\n",
       "    <tr>\n",
       "      <th>4</th>\n",
       "      <td>43330</td>\n",
       "      <td>2</td>\n",
       "      <td>2426</td>\n",
       "      <td>1038</td>\n",
       "      <td>108</td>\n",
       "      <td>Kettle Tortilla ChpsHny&amp;Jlpno Chili 150g</td>\n",
       "      <td>3</td>\n",
       "      <td>13.8</td>\n",
       "    </tr>\n",
       "  </tbody>\n",
       "</table>\n",
       "</div>"
      ],
      "text/plain": [
       "    DATE  STORE_NBR  LYLTY_CARD_NBR  TXN_ID  PROD_NBR  \\\n",
       "0  43390          1            1000       1         5   \n",
       "1  43599          1            1307     348        66   \n",
       "2  43605          1            1343     383        61   \n",
       "3  43329          2            2373     974        69   \n",
       "4  43330          2            2426    1038       108   \n",
       "\n",
       "                                  PROD_NAME  PROD_QTY  TOT_SALES  \n",
       "0    Natural Chip        Compny SeaSalt175g         2        6.0  \n",
       "1                  CCs Nacho Cheese    175g         3        6.3  \n",
       "2    Smiths Crinkle Cut  Chips Chicken 170g         2        2.9  \n",
       "3    Smiths Chip Thinly  S/Cream&Onion 175g         5       15.0  \n",
       "4  Kettle Tortilla ChpsHny&Jlpno Chili 150g         3       13.8  "
      ]
     },
     "execution_count": 80,
     "metadata": {},
     "output_type": "execute_result"
    }
   ],
   "source": [
    "transaction_data.head()"
   ]
  },
  {
   "cell_type": "code",
   "execution_count": 81,
   "metadata": {},
   "outputs": [
    {
     "name": "stdout",
     "output_type": "stream",
     "text": [
      "<class 'pandas.core.frame.DataFrame'>\n",
      "RangeIndex: 264836 entries, 0 to 264835\n",
      "Data columns (total 8 columns):\n",
      " #   Column          Non-Null Count   Dtype  \n",
      "---  ------          --------------   -----  \n",
      " 0   DATE            264836 non-null  int64  \n",
      " 1   STORE_NBR       264836 non-null  int64  \n",
      " 2   LYLTY_CARD_NBR  264836 non-null  int64  \n",
      " 3   TXN_ID          264836 non-null  int64  \n",
      " 4   PROD_NBR        264836 non-null  int64  \n",
      " 5   PROD_NAME       264836 non-null  object \n",
      " 6   PROD_QTY        264836 non-null  int64  \n",
      " 7   TOT_SALES       264836 non-null  float64\n",
      "dtypes: float64(1), int64(6), object(1)\n",
      "memory usage: 16.2+ MB\n"
     ]
    }
   ],
   "source": [
    "transaction_data.info()"
   ]
  },
  {
   "cell_type": "code",
   "execution_count": 82,
   "metadata": {},
   "outputs": [
    {
     "data": {
      "text/html": [
       "<div>\n",
       "<style scoped>\n",
       "    .dataframe tbody tr th:only-of-type {\n",
       "        vertical-align: middle;\n",
       "    }\n",
       "\n",
       "    .dataframe tbody tr th {\n",
       "        vertical-align: top;\n",
       "    }\n",
       "\n",
       "    .dataframe thead th {\n",
       "        text-align: right;\n",
       "    }\n",
       "</style>\n",
       "<table border=\"1\" class=\"dataframe\">\n",
       "  <thead>\n",
       "    <tr style=\"text-align: right;\">\n",
       "      <th></th>\n",
       "      <th>DATE</th>\n",
       "      <th>STORE_NBR</th>\n",
       "      <th>LYLTY_CARD_NBR</th>\n",
       "      <th>TXN_ID</th>\n",
       "      <th>PROD_NBR</th>\n",
       "      <th>PROD_NAME</th>\n",
       "      <th>PROD_QTY</th>\n",
       "      <th>TOT_SALES</th>\n",
       "    </tr>\n",
       "  </thead>\n",
       "  <tbody>\n",
       "    <tr>\n",
       "      <th>count</th>\n",
       "      <td>264836.000000</td>\n",
       "      <td>264836.00000</td>\n",
       "      <td>2.648360e+05</td>\n",
       "      <td>2.648360e+05</td>\n",
       "      <td>264836.000000</td>\n",
       "      <td>264836</td>\n",
       "      <td>264836.000000</td>\n",
       "      <td>264836.000000</td>\n",
       "    </tr>\n",
       "    <tr>\n",
       "      <th>unique</th>\n",
       "      <td>NaN</td>\n",
       "      <td>NaN</td>\n",
       "      <td>NaN</td>\n",
       "      <td>NaN</td>\n",
       "      <td>NaN</td>\n",
       "      <td>114</td>\n",
       "      <td>NaN</td>\n",
       "      <td>NaN</td>\n",
       "    </tr>\n",
       "    <tr>\n",
       "      <th>top</th>\n",
       "      <td>NaN</td>\n",
       "      <td>NaN</td>\n",
       "      <td>NaN</td>\n",
       "      <td>NaN</td>\n",
       "      <td>NaN</td>\n",
       "      <td>Kettle Mozzarella   Basil &amp; Pesto 175g</td>\n",
       "      <td>NaN</td>\n",
       "      <td>NaN</td>\n",
       "    </tr>\n",
       "    <tr>\n",
       "      <th>freq</th>\n",
       "      <td>NaN</td>\n",
       "      <td>NaN</td>\n",
       "      <td>NaN</td>\n",
       "      <td>NaN</td>\n",
       "      <td>NaN</td>\n",
       "      <td>3304</td>\n",
       "      <td>NaN</td>\n",
       "      <td>NaN</td>\n",
       "    </tr>\n",
       "    <tr>\n",
       "      <th>mean</th>\n",
       "      <td>43464.036260</td>\n",
       "      <td>135.08011</td>\n",
       "      <td>1.355495e+05</td>\n",
       "      <td>1.351583e+05</td>\n",
       "      <td>56.583157</td>\n",
       "      <td>NaN</td>\n",
       "      <td>1.907309</td>\n",
       "      <td>7.304200</td>\n",
       "    </tr>\n",
       "    <tr>\n",
       "      <th>std</th>\n",
       "      <td>105.389282</td>\n",
       "      <td>76.78418</td>\n",
       "      <td>8.057998e+04</td>\n",
       "      <td>7.813303e+04</td>\n",
       "      <td>32.826638</td>\n",
       "      <td>NaN</td>\n",
       "      <td>0.643654</td>\n",
       "      <td>3.083226</td>\n",
       "    </tr>\n",
       "    <tr>\n",
       "      <th>min</th>\n",
       "      <td>43282.000000</td>\n",
       "      <td>1.00000</td>\n",
       "      <td>1.000000e+03</td>\n",
       "      <td>1.000000e+00</td>\n",
       "      <td>1.000000</td>\n",
       "      <td>NaN</td>\n",
       "      <td>1.000000</td>\n",
       "      <td>1.500000</td>\n",
       "    </tr>\n",
       "    <tr>\n",
       "      <th>25%</th>\n",
       "      <td>43373.000000</td>\n",
       "      <td>70.00000</td>\n",
       "      <td>7.002100e+04</td>\n",
       "      <td>6.760150e+04</td>\n",
       "      <td>28.000000</td>\n",
       "      <td>NaN</td>\n",
       "      <td>2.000000</td>\n",
       "      <td>5.400000</td>\n",
       "    </tr>\n",
       "    <tr>\n",
       "      <th>50%</th>\n",
       "      <td>43464.000000</td>\n",
       "      <td>130.00000</td>\n",
       "      <td>1.303575e+05</td>\n",
       "      <td>1.351375e+05</td>\n",
       "      <td>56.000000</td>\n",
       "      <td>NaN</td>\n",
       "      <td>2.000000</td>\n",
       "      <td>7.400000</td>\n",
       "    </tr>\n",
       "    <tr>\n",
       "      <th>75%</th>\n",
       "      <td>43555.000000</td>\n",
       "      <td>203.00000</td>\n",
       "      <td>2.030942e+05</td>\n",
       "      <td>2.027012e+05</td>\n",
       "      <td>85.000000</td>\n",
       "      <td>NaN</td>\n",
       "      <td>2.000000</td>\n",
       "      <td>9.200000</td>\n",
       "    </tr>\n",
       "    <tr>\n",
       "      <th>max</th>\n",
       "      <td>43646.000000</td>\n",
       "      <td>272.00000</td>\n",
       "      <td>2.373711e+06</td>\n",
       "      <td>2.415841e+06</td>\n",
       "      <td>114.000000</td>\n",
       "      <td>NaN</td>\n",
       "      <td>200.000000</td>\n",
       "      <td>650.000000</td>\n",
       "    </tr>\n",
       "  </tbody>\n",
       "</table>\n",
       "</div>"
      ],
      "text/plain": [
       "                 DATE     STORE_NBR  LYLTY_CARD_NBR        TXN_ID  \\\n",
       "count   264836.000000  264836.00000    2.648360e+05  2.648360e+05   \n",
       "unique            NaN           NaN             NaN           NaN   \n",
       "top               NaN           NaN             NaN           NaN   \n",
       "freq              NaN           NaN             NaN           NaN   \n",
       "mean     43464.036260     135.08011    1.355495e+05  1.351583e+05   \n",
       "std        105.389282      76.78418    8.057998e+04  7.813303e+04   \n",
       "min      43282.000000       1.00000    1.000000e+03  1.000000e+00   \n",
       "25%      43373.000000      70.00000    7.002100e+04  6.760150e+04   \n",
       "50%      43464.000000     130.00000    1.303575e+05  1.351375e+05   \n",
       "75%      43555.000000     203.00000    2.030942e+05  2.027012e+05   \n",
       "max      43646.000000     272.00000    2.373711e+06  2.415841e+06   \n",
       "\n",
       "             PROD_NBR                               PROD_NAME       PROD_QTY  \\\n",
       "count   264836.000000                                  264836  264836.000000   \n",
       "unique            NaN                                     114            NaN   \n",
       "top               NaN  Kettle Mozzarella   Basil & Pesto 175g            NaN   \n",
       "freq              NaN                                    3304            NaN   \n",
       "mean        56.583157                                     NaN       1.907309   \n",
       "std         32.826638                                     NaN       0.643654   \n",
       "min          1.000000                                     NaN       1.000000   \n",
       "25%         28.000000                                     NaN       2.000000   \n",
       "50%         56.000000                                     NaN       2.000000   \n",
       "75%         85.000000                                     NaN       2.000000   \n",
       "max        114.000000                                     NaN     200.000000   \n",
       "\n",
       "            TOT_SALES  \n",
       "count   264836.000000  \n",
       "unique            NaN  \n",
       "top               NaN  \n",
       "freq              NaN  \n",
       "mean         7.304200  \n",
       "std          3.083226  \n",
       "min          1.500000  \n",
       "25%          5.400000  \n",
       "50%          7.400000  \n",
       "75%          9.200000  \n",
       "max        650.000000  "
      ]
     },
     "execution_count": 82,
     "metadata": {},
     "output_type": "execute_result"
    }
   ],
   "source": [
    "transaction_data.describe(include='all')"
   ]
  },
  {
   "cell_type": "code",
   "execution_count": 83,
   "metadata": {},
   "outputs": [],
   "source": [
    "for col in transaction_data.columns:\n",
    "    if transaction_data[col].hasnans:\n",
    "        print(col)"
   ]
  },
  {
   "cell_type": "code",
   "execution_count": 84,
   "metadata": {},
   "outputs": [
    {
     "name": "stdout",
     "output_type": "stream",
     "text": [
      "114\n",
      "114\n"
     ]
    }
   ],
   "source": [
    "print(len(transaction_data['PROD_NAME'].unique()))\n",
    "print(len(transaction_data['PROD_NBR'].unique()))"
   ]
  },
  {
   "cell_type": "markdown",
   "metadata": {},
   "source": [
    "Observations:\n",
    "- DATE is not in correct format. It seems to be an integer representing some amount of time passed from a start point.\n",
    "- PROD_NAME seems to be in the form Company/Type&Flavour/Packet Size. Which means the data is not as flexible/robust as it potentially could be.\n",
    "- Each PROD_NBR should correctly associated with the PROD_NAME\n",
    "- Outliers could exist in the several numerical quantities provided\n",
    "- No null values "
   ]
  },
  {
   "cell_type": "code",
   "execution_count": 85,
   "metadata": {},
   "outputs": [],
   "source": [
    "td_clean = transaction_data"
   ]
  },
  {
   "cell_type": "code",
   "execution_count": 86,
   "metadata": {},
   "outputs": [
    {
     "data": {
      "text/html": [
       "<div>\n",
       "<style scoped>\n",
       "    .dataframe tbody tr th:only-of-type {\n",
       "        vertical-align: middle;\n",
       "    }\n",
       "\n",
       "    .dataframe tbody tr th {\n",
       "        vertical-align: top;\n",
       "    }\n",
       "\n",
       "    .dataframe thead th {\n",
       "        text-align: right;\n",
       "    }\n",
       "</style>\n",
       "<table border=\"1\" class=\"dataframe\">\n",
       "  <thead>\n",
       "    <tr style=\"text-align: right;\">\n",
       "      <th></th>\n",
       "      <th>DATE</th>\n",
       "      <th>STORE_NBR</th>\n",
       "      <th>LYLTY_CARD_NBR</th>\n",
       "      <th>TXN_ID</th>\n",
       "      <th>PROD_NBR</th>\n",
       "      <th>PROD_NAME</th>\n",
       "      <th>PROD_QTY</th>\n",
       "      <th>TOT_SALES</th>\n",
       "    </tr>\n",
       "  </thead>\n",
       "  <tbody>\n",
       "    <tr>\n",
       "      <th>0</th>\n",
       "      <td>2018-10-17</td>\n",
       "      <td>1</td>\n",
       "      <td>1000</td>\n",
       "      <td>1</td>\n",
       "      <td>5</td>\n",
       "      <td>Natural Chip        Compny SeaSalt175g</td>\n",
       "      <td>2</td>\n",
       "      <td>6.0</td>\n",
       "    </tr>\n",
       "    <tr>\n",
       "      <th>1</th>\n",
       "      <td>2019-05-14</td>\n",
       "      <td>1</td>\n",
       "      <td>1307</td>\n",
       "      <td>348</td>\n",
       "      <td>66</td>\n",
       "      <td>CCs Nacho Cheese    175g</td>\n",
       "      <td>3</td>\n",
       "      <td>6.3</td>\n",
       "    </tr>\n",
       "    <tr>\n",
       "      <th>2</th>\n",
       "      <td>2019-05-20</td>\n",
       "      <td>1</td>\n",
       "      <td>1343</td>\n",
       "      <td>383</td>\n",
       "      <td>61</td>\n",
       "      <td>Smiths Crinkle Cut  Chips Chicken 170g</td>\n",
       "      <td>2</td>\n",
       "      <td>2.9</td>\n",
       "    </tr>\n",
       "    <tr>\n",
       "      <th>3</th>\n",
       "      <td>2018-08-17</td>\n",
       "      <td>2</td>\n",
       "      <td>2373</td>\n",
       "      <td>974</td>\n",
       "      <td>69</td>\n",
       "      <td>Smiths Chip Thinly  S/Cream&amp;Onion 175g</td>\n",
       "      <td>5</td>\n",
       "      <td>15.0</td>\n",
       "    </tr>\n",
       "    <tr>\n",
       "      <th>4</th>\n",
       "      <td>2018-08-18</td>\n",
       "      <td>2</td>\n",
       "      <td>2426</td>\n",
       "      <td>1038</td>\n",
       "      <td>108</td>\n",
       "      <td>Kettle Tortilla ChpsHny&amp;Jlpno Chili 150g</td>\n",
       "      <td>3</td>\n",
       "      <td>13.8</td>\n",
       "    </tr>\n",
       "  </tbody>\n",
       "</table>\n",
       "</div>"
      ],
      "text/plain": [
       "        DATE  STORE_NBR  LYLTY_CARD_NBR  TXN_ID  PROD_NBR  \\\n",
       "0 2018-10-17          1            1000       1         5   \n",
       "1 2019-05-14          1            1307     348        66   \n",
       "2 2019-05-20          1            1343     383        61   \n",
       "3 2018-08-17          2            2373     974        69   \n",
       "4 2018-08-18          2            2426    1038       108   \n",
       "\n",
       "                                  PROD_NAME  PROD_QTY  TOT_SALES  \n",
       "0    Natural Chip        Compny SeaSalt175g         2        6.0  \n",
       "1                  CCs Nacho Cheese    175g         3        6.3  \n",
       "2    Smiths Crinkle Cut  Chips Chicken 170g         2        2.9  \n",
       "3    Smiths Chip Thinly  S/Cream&Onion 175g         5       15.0  \n",
       "4  Kettle Tortilla ChpsHny&Jlpno Chili 150g         3       13.8  "
      ]
     },
     "execution_count": 86,
     "metadata": {},
     "output_type": "execute_result"
    }
   ],
   "source": [
    "def integer_date_to_datetime(d):\n",
    "    \"\"\"\n",
    "    https://stackoverflow.com/questions/75203103/excel-number-to-convert-to-date\n",
    "    Excel and csv integer dates are days from 1899/12/30. \n",
    "    \"\"\"\n",
    "    return dt.datetime(1899,12,30) + dt.timedelta(days=d)\n",
    "\n",
    "td_clean['DATE'] = td_clean['DATE'].apply(integer_date_to_datetime)\n",
    "td_clean.head()"
   ]
  },
  {
   "cell_type": "code",
   "execution_count": 87,
   "metadata": {},
   "outputs": [
    {
     "data": {
      "text/html": [
       "<div>\n",
       "<style scoped>\n",
       "    .dataframe tbody tr th:only-of-type {\n",
       "        vertical-align: middle;\n",
       "    }\n",
       "\n",
       "    .dataframe tbody tr th {\n",
       "        vertical-align: top;\n",
       "    }\n",
       "\n",
       "    .dataframe thead th {\n",
       "        text-align: right;\n",
       "    }\n",
       "</style>\n",
       "<table border=\"1\" class=\"dataframe\">\n",
       "  <thead>\n",
       "    <tr style=\"text-align: right;\">\n",
       "      <th></th>\n",
       "      <th>DATE</th>\n",
       "      <th>STORE_NBR</th>\n",
       "      <th>LYLTY_CARD_NBR</th>\n",
       "      <th>TXN_ID</th>\n",
       "      <th>PROD_NBR</th>\n",
       "      <th>PROD_NAME</th>\n",
       "      <th>PROD_QTY</th>\n",
       "      <th>TOT_SALES</th>\n",
       "      <th>PACK_SIZE</th>\n",
       "      <th>BRAND</th>\n",
       "      <th>TYPE</th>\n",
       "    </tr>\n",
       "  </thead>\n",
       "  <tbody>\n",
       "    <tr>\n",
       "      <th>0</th>\n",
       "      <td>2018-10-17</td>\n",
       "      <td>1</td>\n",
       "      <td>1000</td>\n",
       "      <td>1</td>\n",
       "      <td>5</td>\n",
       "      <td>Natural Chip        Compny SeaSalt175g</td>\n",
       "      <td>2</td>\n",
       "      <td>6.0</td>\n",
       "      <td>175</td>\n",
       "      <td>Natural</td>\n",
       "      <td>Chip        Compny SeaSalt</td>\n",
       "    </tr>\n",
       "    <tr>\n",
       "      <th>1</th>\n",
       "      <td>2019-05-14</td>\n",
       "      <td>1</td>\n",
       "      <td>1307</td>\n",
       "      <td>348</td>\n",
       "      <td>66</td>\n",
       "      <td>CCs Nacho Cheese    175g</td>\n",
       "      <td>3</td>\n",
       "      <td>6.3</td>\n",
       "      <td>175</td>\n",
       "      <td>CCs</td>\n",
       "      <td>Nacho Cheese</td>\n",
       "    </tr>\n",
       "    <tr>\n",
       "      <th>2</th>\n",
       "      <td>2019-05-20</td>\n",
       "      <td>1</td>\n",
       "      <td>1343</td>\n",
       "      <td>383</td>\n",
       "      <td>61</td>\n",
       "      <td>Smiths Crinkle Cut  Chips Chicken 170g</td>\n",
       "      <td>2</td>\n",
       "      <td>2.9</td>\n",
       "      <td>170</td>\n",
       "      <td>Smiths</td>\n",
       "      <td>Crinkle Cut  Chips Chicken</td>\n",
       "    </tr>\n",
       "    <tr>\n",
       "      <th>3</th>\n",
       "      <td>2018-08-17</td>\n",
       "      <td>2</td>\n",
       "      <td>2373</td>\n",
       "      <td>974</td>\n",
       "      <td>69</td>\n",
       "      <td>Smiths Chip Thinly  S/Cream&amp;Onion 175g</td>\n",
       "      <td>5</td>\n",
       "      <td>15.0</td>\n",
       "      <td>175</td>\n",
       "      <td>Smiths</td>\n",
       "      <td>Chip Thinly  S/Cream&amp;Onion</td>\n",
       "    </tr>\n",
       "    <tr>\n",
       "      <th>4</th>\n",
       "      <td>2018-08-18</td>\n",
       "      <td>2</td>\n",
       "      <td>2426</td>\n",
       "      <td>1038</td>\n",
       "      <td>108</td>\n",
       "      <td>Kettle Tortilla ChpsHny&amp;Jlpno Chili 150g</td>\n",
       "      <td>3</td>\n",
       "      <td>13.8</td>\n",
       "      <td>150</td>\n",
       "      <td>Kettle</td>\n",
       "      <td>Tortilla ChpsHny&amp;Jlpno Chili</td>\n",
       "    </tr>\n",
       "  </tbody>\n",
       "</table>\n",
       "</div>"
      ],
      "text/plain": [
       "        DATE  STORE_NBR  LYLTY_CARD_NBR  TXN_ID  PROD_NBR  \\\n",
       "0 2018-10-17          1            1000       1         5   \n",
       "1 2019-05-14          1            1307     348        66   \n",
       "2 2019-05-20          1            1343     383        61   \n",
       "3 2018-08-17          2            2373     974        69   \n",
       "4 2018-08-18          2            2426    1038       108   \n",
       "\n",
       "                                  PROD_NAME  PROD_QTY  TOT_SALES  PACK_SIZE  \\\n",
       "0    Natural Chip        Compny SeaSalt175g         2        6.0        175   \n",
       "1                  CCs Nacho Cheese    175g         3        6.3        175   \n",
       "2    Smiths Crinkle Cut  Chips Chicken 170g         2        2.9        170   \n",
       "3    Smiths Chip Thinly  S/Cream&Onion 175g         5       15.0        175   \n",
       "4  Kettle Tortilla ChpsHny&Jlpno Chili 150g         3       13.8        150   \n",
       "\n",
       "     BRAND                          TYPE  \n",
       "0  Natural    Chip        Compny SeaSalt  \n",
       "1      CCs                  Nacho Cheese  \n",
       "2   Smiths    Crinkle Cut  Chips Chicken  \n",
       "3   Smiths    Chip Thinly  S/Cream&Onion  \n",
       "4   Kettle  Tortilla ChpsHny&Jlpno Chili  "
      ]
     },
     "execution_count": 87,
     "metadata": {},
     "output_type": "execute_result"
    }
   ],
   "source": [
    "def get_pack_size_from_prod_name(prod_name):\n",
    "    # Example:\n",
    "    # Natural Chip Compny SeaSalt175g \n",
    "    # Not guaranteed last word, take integer. Scan later\n",
    "    return int(\"\".join(filter(str.isdigit, prod_name)))\n",
    "\n",
    "def get_string_until_integer(s):\n",
    "    output = \"\"\n",
    "    for c in s:\n",
    "        if str.isdigit(c):\n",
    "            break\n",
    "        output += c\n",
    "    return output\n",
    "\n",
    "def get_brand_from_prod_name(prod_name: str):\n",
    "    return get_string_until_integer(prod_name).split(\" \")[0]\n",
    "\n",
    "def get_prod_type_from_prod_name(prod_name: str):\n",
    "    split = get_string_until_integer(prod_name).strip().split(\" \")\n",
    "    return \" \".join(split[1:])\n",
    "\n",
    "td_clean['PACK_SIZE'] = td_clean['PROD_NAME'].apply(get_pack_size_from_prod_name)\n",
    "td_clean['BRAND'] = td_clean['PROD_NAME'].apply(get_brand_from_prod_name)\n",
    "td_clean['TYPE'] = td_clean['PROD_NAME'].apply(get_prod_type_from_prod_name)\n",
    "\n",
    "\n",
    "td_clean.head()"
   ]
  },
  {
   "cell_type": "code",
   "execution_count": 88,
   "metadata": {},
   "outputs": [
    {
     "name": "stdout",
     "output_type": "stream",
     "text": [
      "count    264836.000000\n",
      "mean        182.427004\n",
      "std          64.327196\n",
      "min          70.000000\n",
      "25%         150.000000\n",
      "50%         170.000000\n",
      "75%         175.000000\n",
      "max         380.000000\n",
      "Name: PACK_SIZE, dtype: float64\n",
      "count     264836\n",
      "unique        29\n",
      "top       Kettle\n",
      "freq       41288\n",
      "Name: BRAND, dtype: object\n",
      "count     264836\n",
      "unique       112\n",
      "top       Cheese\n",
      "freq        6264\n",
      "Name: TYPE, dtype: object\n"
     ]
    }
   ],
   "source": [
    "print(td_clean['PACK_SIZE'].describe())\n",
    "print(td_clean['BRAND'].describe())\n",
    "print(td_clean['TYPE'].describe())"
   ]
  },
  {
   "cell_type": "code",
   "execution_count": 89,
   "metadata": {},
   "outputs": [
    {
     "name": "stdout",
     "output_type": "stream",
     "text": [
      "[175 170 150 300 330 210 270 220 125 110 134 380 180 165 135 250 200 160\n",
      " 190  90  70]\n",
      "66390\n",
      "19983\n",
      "43131\n",
      "15166\n",
      "12540\n",
      "6272\n",
      "6285\n",
      "1564\n",
      "1454\n",
      "22387\n",
      "25102\n",
      "6418\n",
      "1468\n",
      "15297\n",
      "3257\n",
      "3169\n",
      "4473\n",
      "2970\n",
      "2995\n",
      "3008\n",
      "1507\n"
     ]
    }
   ],
   "source": [
    "print(td_clean['PACK_SIZE'].unique())\n",
    "for pack_size in td_clean['PACK_SIZE'].unique():\n",
    "    print(len(td_clean[td_clean['PACK_SIZE'] == pack_size]))"
   ]
  },
  {
   "cell_type": "code",
   "execution_count": 90,
   "metadata": {},
   "outputs": [
    {
     "name": "stdout",
     "output_type": "stream",
     "text": [
      "['Natural' 'CCs' 'Smiths' 'Kettle' 'Old' 'Grain' 'Doritos' 'Twisties' 'WW'\n",
      " 'Thins' 'Burger' 'NCC' 'Cheezels' 'Infzns' 'Red' 'Pringles' 'Dorito'\n",
      " 'Infuzions' 'Smith' 'GrnWves' 'Tyrrells' 'Cobs' 'Woolworths' 'French'\n",
      " 'RRD' 'Tostitos' 'Cheetos' 'Snbts' 'Sunbites']\n"
     ]
    }
   ],
   "source": [
    "print(td_clean['BRAND'].unique())"
   ]
  },
  {
   "cell_type": "code",
   "execution_count": 91,
   "metadata": {},
   "outputs": [
    {
     "name": "stdout",
     "output_type": "stream",
     "text": [
      "================Smiths = Smith================\n",
      "2       Smiths Crinkle Cut  Chips Chicken 170g\n",
      "3       Smiths Chip Thinly  S/Cream&Onion 175g\n",
      "6     Smiths Crinkle Chips Salt & Vinegar 330g\n",
      "10    Smiths Crinkle Chips Salt & Vinegar 330g\n",
      "20           Smiths Crinkle      Original 330g\n",
      "Name: PROD_NAME, dtype: object\n",
      "50     Smith Crinkle Cut   Mac N Cheese 150g\n",
      "115    Smith Crinkle Cut   Mac N Cheese 150g\n",
      "148    Smith Crinkle Cut   Mac N Cheese 150g\n",
      "167    Smith Crinkle Cut   Mac N Cheese 150g\n",
      "176    Smith Crinkle Cut   Mac N Cheese 150g\n",
      "Name: PROD_NAME, dtype: object\n",
      "================Doritos = Dorito================\n",
      "8     Doritos Corn Chip Mexican Jalapeno 150g\n",
      "18    Doritos Corn Chip Southern Chicken 150g\n",
      "37                   Doritos Mexicana    170g\n",
      "57    Doritos Corn Chip Mexican Jalapeno 150g\n",
      "63            Doritos Salsa       Medium 300g\n",
      "Name: PROD_NAME, dtype: object\n",
      "41     Dorito Corn Chp     Supreme 380g\n",
      "67     Dorito Corn Chp     Supreme 380g\n",
      "157    Dorito Corn Chp     Supreme 380g\n",
      "199    Dorito Corn Chp     Supreme 380g\n",
      "236    Dorito Corn Chp     Supreme 380g\n",
      "Name: PROD_NAME, dtype: object\n",
      "================Woolworths = WW================\n",
      "74     Woolworths Mild     Salsa 300g\n",
      "158    Woolworths Medium   Salsa 300g\n",
      "166    Woolworths Cheese   Rings 190g\n",
      "390    Woolworths Cheese   Rings 190g\n",
      "400    Woolworths Cheese   Rings 190g\n",
      "Name: PROD_NAME, dtype: object\n",
      "13      WW Crinkle Cut      Chicken 175g\n",
      "94        WW Original Corn    Chips 200g\n",
      "99      WW Crinkle Cut      Chicken 175g\n",
      "111    WW D/Style Chip     Sea Salt 200g\n",
      "112       WW Original Corn    Chips 200g\n",
      "Name: PROD_NAME, dtype: object\n",
      "================NCC = Natural================\n",
      "17     NCC Sour Cream &    Garden Chives 175g\n",
      "21     NCC Sour Cream &    Garden Chives 175g\n",
      "437    NCC Sour Cream &    Garden Chives 175g\n",
      "535    NCC Sour Cream &    Garden Chives 175g\n",
      "828    NCC Sour Cream &    Garden Chives 175g\n",
      "Name: PROD_NAME, dtype: object\n",
      "0       Natural Chip        Compny SeaSalt175g\n",
      "40      Natural ChipCo      Hony Soy Chckn175g\n",
      "75     Natural Chip Co     Tmato Hrb&Spce 175g\n",
      "214    Natural Chip Co     Tmato Hrb&Spce 175g\n",
      "234     Natural ChipCo      Hony Soy Chckn175g\n",
      "Name: PROD_NAME, dtype: object\n",
      "================Infuzions = Infzns================\n",
      "47     Infuzions Thai SweetChili PotatoMix 110g\n",
      "55      Infuzions BBQ Rib   Prawn Crackers 110g\n",
      "64     Infuzions Thai SweetChili PotatoMix 110g\n",
      "120    Infuzions Thai SweetChili PotatoMix 110g\n",
      "256    Infuzions SourCream&Herbs Veg Strws 110g\n",
      "Name: PROD_NAME, dtype: object\n",
      "22     Infzns Crn Crnchers Tangy Gcamole 110g\n",
      "29     Infzns Crn Crnchers Tangy Gcamole 110g\n",
      "46     Infzns Crn Crnchers Tangy Gcamole 110g\n",
      "175    Infzns Crn Crnchers Tangy Gcamole 110g\n",
      "180    Infzns Crn Crnchers Tangy Gcamole 110g\n",
      "Name: PROD_NAME, dtype: object\n",
      "================RRD = Red================\n",
      "92        RRD Chilli&         Coconut 150g\n",
      "118       RRD Chilli&         Coconut 150g\n",
      "140    RRD Sweet Chilli &  Sour Cream 165g\n",
      "294    RRD Sweet Chilli &  Sour Cream 165g\n",
      "302       RRD Chilli&         Coconut 150g\n",
      "Name: PROD_NAME, dtype: object\n",
      "28         Red Rock Deli Thai  Chilli&Lime 150g\n",
      "32     Red Rock Deli SR    Salsa & Mzzrlla 150g\n",
      "34      Red Rock Deli Sp    Salt & Truffle 150G\n",
      "189    Red Rock Deli SR    Salsa & Mzzrlla 150g\n",
      "212     Red Rock Deli Sp    Salt & Truffle 150G\n",
      "Name: PROD_NAME, dtype: object\n",
      "================Sunbites = Snbts================\n",
      "333    Sunbites Whlegrn    Crisps Frch/Onin 90g\n",
      "414    Sunbites Whlegrn    Crisps Frch/Onin 90g\n",
      "663    Sunbites Whlegrn    Crisps Frch/Onin 90g\n",
      "675    Sunbites Whlegrn    Crisps Frch/Onin 90g\n",
      "678    Sunbites Whlegrn    Crisps Frch/Onin 90g\n",
      "Name: PROD_NAME, dtype: object\n",
      "224     Snbts Whlgrn Crisps Cheddr&Mstrd 90g\n",
      "493     Snbts Whlgrn Crisps Cheddr&Mstrd 90g\n",
      "525     Snbts Whlgrn Crisps Cheddr&Mstrd 90g\n",
      "1282    Snbts Whlgrn Crisps Cheddr&Mstrd 90g\n",
      "1449    Snbts Whlgrn Crisps Cheddr&Mstrd 90g\n",
      "Name: PROD_NAME, dtype: object\n"
     ]
    }
   ],
   "source": [
    "possible_same_brands = [('Smiths', 'Smith'), ('Doritos', 'Dorito'), ('Woolworths', 'WW'), ('NCC', 'Natural'), ('Infuzions', 'Infzns'), ('RRD', 'Red'), ('Sunbites', 'Snbts')]\n",
    "\n",
    "for psb in possible_same_brands:\n",
    "    b1, b2 = psb\n",
    "    print(f\"================{b1} = {b2}================\")\n",
    "    print(td_clean[td_clean['BRAND'] == b1]['PROD_NAME'].head())\n",
    "    print(td_clean[td_clean['BRAND'] == b2]['PROD_NAME'].head())"
   ]
  },
  {
   "cell_type": "markdown",
   "metadata": {},
   "source": [
    "It seems pretty safe to group these brands together."
   ]
  },
  {
   "cell_type": "code",
   "execution_count": 92,
   "metadata": {},
   "outputs": [],
   "source": [
    "for psb in possible_same_brands:\n",
    "    preferred_brand_name, other_brand_name = psb\n",
    "    td_clean.loc[td_clean['BRAND'] == other_brand_name, 'BRAND'] = preferred_brand_name"
   ]
  },
  {
   "cell_type": "markdown",
   "metadata": {},
   "source": [
    "We also found Salsa products when our focus is on chips. Remove those. "
   ]
  },
  {
   "cell_type": "code",
   "execution_count": 93,
   "metadata": {},
   "outputs": [
    {
     "data": {
      "text/plain": [
       "18094"
      ]
     },
     "execution_count": 93,
     "metadata": {},
     "output_type": "execute_result"
    }
   ],
   "source": [
    "len(td_clean[td_clean['TYPE'].str.contains('salsa', case=False, regex=True)])"
   ]
  },
  {
   "cell_type": "markdown",
   "metadata": {},
   "source": [
    "There are 18094 items that contain the word salsa in their type. "
   ]
  },
  {
   "cell_type": "code",
   "execution_count": 94,
   "metadata": {},
   "outputs": [],
   "source": [
    "td_clean = td_clean.drop(td_clean[td_clean['TYPE'].str.contains('salsa', case=False, regex=True)].index)"
   ]
  },
  {
   "cell_type": "code",
   "execution_count": 95,
   "metadata": {},
   "outputs": [
    {
     "name": "stdout",
     "output_type": "stream",
     "text": [
      "['Chip        Compny SeaSalt' 'Nacho Cheese' 'Crinkle Cut  Chips Chicken'\n",
      " 'Chip Thinly  S/Cream&Onion' 'Tortilla ChpsHny&Jlpno Chili'\n",
      " 'Crinkle Chips Salt & Vinegar' 'Waves         Sweet Chilli'\n",
      " 'Corn Chip Mexican Jalapeno' 'Waves Sour    Cream&Chives'\n",
      " 'Sensations   Siracha Lime' 'Cheese' 'Crinkle Cut      Chicken'\n",
      " 'Chips Light&  Tangy' 'Original' 'Rings' 'Sour Cream &    Garden Chives'\n",
      " 'Corn Chip Southern Chicken' 'Cheese Box' 'Crinkle      Original'\n",
      " 'Crn Crnchers Tangy Gcamole' 'Sea Salt     And Vinegar'\n",
      " 'Chip Thinly  Cut Original' 'Rock Deli Thai  Chilli&Lime'\n",
      " 'Sthrn FriedChicken' 'Sweet&Spcy BBQ' 'Chips         Originl saltd'\n",
      " 'Rock Deli Sp    Salt & Truffle' 'Thinly       Swt Chli&S/Cream' 'Chilli'\n",
      " 'Mexicana' 'Crinkle Cut  French OnionDip' 'ChipCo      Hony Soy Chckn'\n",
      " 'Corn Chp     Supreme' 'Chicken' 'Thinly Cut   Roast Chicken'\n",
      " 'Mozzarella   Basil & Pesto' 'Thai SweetChili PotatoMix'\n",
      " 'Sensations   Camembert & Fig' 'Crinkle Cut   Mac N Cheese'\n",
      " 'Honey Soy    Chicken' 'Chips Seasonedchicken'\n",
      " 'Crinkle Cut  Salt & Vinegar' 'BBQ Rib   Prawn Crackers'\n",
      " 'Plus Btroot & Chilli Jam' 'Crisps     Lightly Salted'\n",
      " 'Sweet Chilli And Sour Cream' '' 'SourCream  Onion'\n",
      " 'Corn Chips  Original' 'Cheese     Burger'\n",
      " 'Popd Swt/Chlli &Sr/Cream Chips' 'Chip Co     Tmato Hrb&Spce'\n",
      " 'Crinkle Cut  Chips Original' 'Popd Sea Salt  Chips'\n",
      " 'Crinkle Cut  Chips Chs&Onion' 'Fries Potato Chips'\n",
      " 'Corn Chips  Cheese Supreme' 'Original   Crisps'\n",
      " 'Chilli&         Coconut' 'Original Corn    Chips'\n",
      " 'Potato Chips  Hot & Spicy' 'Popd Sour Crm  &Chives Chips'\n",
      " 'Crnkle Chip  Orgnl Big Bag' 'Corn Chips  Nacho Cheese'\n",
      " 'Sensations   BBQ&Maple' 'D/Style Chip     Sea Salt'\n",
      " 'Chicken    Salt Crips' 'Original Stacked Chips'\n",
      " 'Chip Thinly  CutSalt/Vinegr' 'Lightly    Salted' 'Chips Salt &  Vinegar'\n",
      " 'Crinkle Cut  Chips Barbecue' 'Puffs' 'Sweet Chilli &  Sour Cream'\n",
      " 'Crinkle Cut      Original' 'Splash Of  Lime'\n",
      " 'Tortilla ChpsBtroot&Ricotta' 'Tasty Cheese' 'Cheese   Rings'\n",
      " 'Smoked     Chipotle' 'Barbeque' 'Supreme Cheese   Corn Chips'\n",
      " 'Mystery    Flavour' 'Crisps     Ched & Chives'\n",
      " 'Whlgrn Crisps Cheddr&Mstrd' 'Chs & Bacon Balls' 'Slt Vingar'\n",
      " 'SourCream&Herbs Veg Strws' 'Tortilla ChpsFeta&Garlic'\n",
      " 'Mango     Chutny Papadums' 'Steak &         Chimuchurri'\n",
      " 'Honey Soy       Chicken' 'Whlegrn    Crisps Frch/Onin' 'Salt & Vinegar'\n",
      " 'Cheese      Supreme' 'Crinkle Cut  Snag&Sauce'\n",
      " 'Sour Cream &OnionStacked Chips' 'Lime & Pepper'\n",
      " 'ChipCo Sea  Salt & Vinegr' 'Rock Deli Chikn&Garlic Aioli'\n",
      " 'SR Slow Rst     Pork Belly' 'Pc Sea Salt' 'Crinkle Cut   Bolognese']\n"
     ]
    }
   ],
   "source": [
    "print(td_clean['TYPE'].unique())"
   ]
  },
  {
   "cell_type": "markdown",
   "metadata": {},
   "source": [
    "We seem to be left with just chips now, or some variation of them. \n",
    "There are Prawn Crackers, and types that are likely very eccentric, like Mac N Cheese, Bolognese, Pork Belly.\n",
    "There are also many spelling errors, however we won't worry about that for now. "
   ]
  },
  {
   "cell_type": "code",
   "execution_count": 96,
   "metadata": {},
   "outputs": [
    {
     "name": "stdout",
     "output_type": "stream",
     "text": [
      "count    246742.000000\n",
      "mean        175.585178\n",
      "std          59.434727\n",
      "min          70.000000\n",
      "25%         150.000000\n",
      "50%         170.000000\n",
      "75%         175.000000\n",
      "max         380.000000\n",
      "Name: PACK_SIZE, dtype: float64\n",
      "count     246742\n",
      "unique        21\n",
      "top       Kettle\n",
      "freq       41288\n",
      "Name: BRAND, dtype: object\n",
      "count     246742\n",
      "unique       103\n",
      "top       Cheese\n",
      "freq        6264\n",
      "Name: TYPE, dtype: object\n"
     ]
    }
   ],
   "source": [
    "print(td_clean['PACK_SIZE'].describe())\n",
    "print(td_clean['BRAND'].describe())\n",
    "print(td_clean['TYPE'].describe())"
   ]
  },
  {
   "cell_type": "markdown",
   "metadata": {},
   "source": [
    "We'll now check for outliers in the following variables:\n",
    "- PROD_QTY\n",
    "- TOT_SALES\n",
    "\n",
    "Outlier identification method depends on how we expect these variables to be distributed respectively.\n",
    "Lets treat them as potentially skewed distributions. "
   ]
  },
  {
   "cell_type": "code",
   "execution_count": 97,
   "metadata": {},
   "outputs": [
    {
     "data": {
      "image/png": "[encoded data removed]",
      "text/plain": [
       "<Figure size 800x800 with 2 Axes>"
      ]
     },
     "metadata": {},
     "output_type": "display_data"
    }
   ],
   "source": [
    "fig, axis = plt.subplots(1, 2)\n",
    "\n",
    "# Needs to be bigger or the x labels are covered by titles.\n",
    "fig.set_size_inches(8, 8)\n",
    "\n",
    "ax1 = axis[0]\n",
    "ax2 = axis[1]\n",
    "\n",
    "ax1.boxplot(td_clean['PROD_QTY'])\n",
    "ax1.set_title(\"Product Quantity Box Plot\")\n",
    "ax1.set_ylabel(\"Product Quantity\")\n",
    "ax1.axes.get_xaxis().set_visible(False)\n",
    "\n",
    "ax2.boxplot(td_clean['TOT_SALES'])\n",
    "ax2.set_title(\"Total Sales Boxplot\")\n",
    "ax2.set_ylabel(\"Total Sales\")\n",
    "ax2.axes.get_xaxis().set_visible(False)"
   ]
  },
  {
   "cell_type": "code",
   "execution_count": 98,
   "metadata": {},
   "outputs": [],
   "source": [
    "def calc_outlier_bounds_normal(column_name):\n",
    "    column = td_clean[column_name]\n",
    "    mean = column.mean()\n",
    "    sd = column.std()\n",
    "    lb = mean - 3 * sd\n",
    "    ub = mean + 3 * sd\n",
    "    print(f\"Lowerbound: {lb}, Upperbound: {ub}\")"
   ]
  },
  {
   "cell_type": "code",
   "execution_count": 99,
   "metadata": {},
   "outputs": [
    {
     "name": "stdout",
     "output_type": "stream",
     "text": [
      "Lowerbound: -0.0714315033867352, Upperbound: 3.887555227762804\n",
      "Lowerbound: -1.9121614143345376, Upperbound: 16.554805958027952\n"
     ]
    }
   ],
   "source": [
    "calc_outlier_bounds_normal('PROD_QTY')\n",
    "calc_outlier_bounds_normal('TOT_SALES')"
   ]
  },
  {
   "cell_type": "code",
   "execution_count": 100,
   "metadata": {},
   "outputs": [
    {
     "name": "stdout",
     "output_type": "stream",
     "text": [
      "======= PROD_QTY =======\n",
      "Q1: 2.0\n",
      "Q3: 2.0\n",
      "IQR: 0.0\n",
      "\n",
      "Lowerbound (anything below considered outliers): 2.0\n",
      "Upperbound (anything above considered outliers): 2.0\n",
      "\n",
      "======= TOT_SALES =======\n",
      "Q1: 5.8\n",
      "Q3: 8.8\n",
      "IQR: 3.000000000000001\n",
      "\n",
      "Lowerbound (anything below considered outliers): 1.299999999999998\n",
      "Upperbound (anything above considered outliers): 10.3\n",
      "\n"
     ]
    }
   ],
   "source": [
    "def calc_outlier_bounds(column_name):\n",
    "    column = td_clean[column_name]\n",
    "    q1 = column.quantile(0.25)\n",
    "    q3 = column.quantile(0.75)\n",
    "    IQR = q3 - q1\n",
    "    lowerbound = q1 - 1.5 * IQR\n",
    "    upperbound = q1 + 1.5 * IQR\n",
    "\n",
    "    print(f\"======= {column_name} =======\")\n",
    "    print(f\"Q1: {q1}\\nQ3: {q3}\\nIQR: {IQR}\\n\\nLowerbound (anything below considered outliers): {lowerbound}\\nUpperbound (anything above considered outliers): {upperbound}\\n\")\n",
    "\n",
    "calc_outlier_bounds('PROD_QTY')\n",
    "calc_outlier_bounds('TOT_SALES')"
   ]
  },
  {
   "cell_type": "code",
   "execution_count": 101,
   "metadata": {},
   "outputs": [],
   "source": [
    "prod_qty_filt = (td_clean['PROD_QTY'] > 2) | (td_clean['PROD_QTY'] < 2)\n",
    "tot_sales_filt = (td_clean['TOT_SALES'] > 10.3) | (td_clean['PROD_QTY'] < 1.3)"
   ]
  },
  {
   "cell_type": "markdown",
   "metadata": {},
   "source": [
    "It seems that we really only have one outlier, which is a product quantity of around 200 and a total sales of around 650. It appears as if a bulk order got mixed in. Lets simply remove the column that has the max. "
   ]
  },
  {
   "cell_type": "code",
   "execution_count": 102,
   "metadata": {},
   "outputs": [
    {
     "data": {
      "text/html": [
       "<div>\n",
       "<style scoped>\n",
       "    .dataframe tbody tr th:only-of-type {\n",
       "        vertical-align: middle;\n",
       "    }\n",
       "\n",
       "    .dataframe tbody tr th {\n",
       "        vertical-align: top;\n",
       "    }\n",
       "\n",
       "    .dataframe thead th {\n",
       "        text-align: right;\n",
       "    }\n",
       "</style>\n",
       "<table border=\"1\" class=\"dataframe\">\n",
       "  <thead>\n",
       "    <tr style=\"text-align: right;\">\n",
       "      <th></th>\n",
       "      <th>DATE</th>\n",
       "      <th>STORE_NBR</th>\n",
       "      <th>LYLTY_CARD_NBR</th>\n",
       "      <th>TXN_ID</th>\n",
       "      <th>PROD_NBR</th>\n",
       "      <th>PROD_NAME</th>\n",
       "      <th>PROD_QTY</th>\n",
       "      <th>TOT_SALES</th>\n",
       "      <th>PACK_SIZE</th>\n",
       "      <th>BRAND</th>\n",
       "      <th>TYPE</th>\n",
       "    </tr>\n",
       "  </thead>\n",
       "  <tbody>\n",
       "    <tr>\n",
       "      <th>69762</th>\n",
       "      <td>2018-08-19</td>\n",
       "      <td>226</td>\n",
       "      <td>226000</td>\n",
       "      <td>226201</td>\n",
       "      <td>4</td>\n",
       "      <td>Dorito Corn Chp     Supreme 380g</td>\n",
       "      <td>200</td>\n",
       "      <td>650.0</td>\n",
       "      <td>380</td>\n",
       "      <td>Doritos</td>\n",
       "      <td>Corn Chp     Supreme</td>\n",
       "    </tr>\n",
       "    <tr>\n",
       "      <th>69763</th>\n",
       "      <td>2019-05-20</td>\n",
       "      <td>226</td>\n",
       "      <td>226000</td>\n",
       "      <td>226210</td>\n",
       "      <td>4</td>\n",
       "      <td>Dorito Corn Chp     Supreme 380g</td>\n",
       "      <td>200</td>\n",
       "      <td>650.0</td>\n",
       "      <td>380</td>\n",
       "      <td>Doritos</td>\n",
       "      <td>Corn Chp     Supreme</td>\n",
       "    </tr>\n",
       "  </tbody>\n",
       "</table>\n",
       "</div>"
      ],
      "text/plain": [
       "            DATE  STORE_NBR  LYLTY_CARD_NBR  TXN_ID  PROD_NBR  \\\n",
       "69762 2018-08-19        226          226000  226201         4   \n",
       "69763 2019-05-20        226          226000  226210         4   \n",
       "\n",
       "                              PROD_NAME  PROD_QTY  TOT_SALES  PACK_SIZE  \\\n",
       "69762  Dorito Corn Chp     Supreme 380g       200      650.0        380   \n",
       "69763  Dorito Corn Chp     Supreme 380g       200      650.0        380   \n",
       "\n",
       "         BRAND                  TYPE  \n",
       "69762  Doritos  Corn Chp     Supreme  \n",
       "69763  Doritos  Corn Chp     Supreme  "
      ]
     },
     "execution_count": 102,
     "metadata": {},
     "output_type": "execute_result"
    }
   ],
   "source": [
    "td_clean[(td_clean['PROD_QTY'] == td_clean['PROD_QTY'].max()) | (td_clean['TOT_SALES'] == td_clean['TOT_SALES'].max())]"
   ]
  },
  {
   "cell_type": "markdown",
   "metadata": {},
   "source": [
    "We should check to make sure they're not mistakenly in the customer table as well. "
   ]
  },
  {
   "cell_type": "code",
   "execution_count": 103,
   "metadata": {},
   "outputs": [
    {
     "data": {
      "text/html": [
       "<div>\n",
       "<style scoped>\n",
       "    .dataframe tbody tr th:only-of-type {\n",
       "        vertical-align: middle;\n",
       "    }\n",
       "\n",
       "    .dataframe tbody tr th {\n",
       "        vertical-align: top;\n",
       "    }\n",
       "\n",
       "    .dataframe thead th {\n",
       "        text-align: right;\n",
       "    }\n",
       "</style>\n",
       "<table border=\"1\" class=\"dataframe\">\n",
       "  <thead>\n",
       "    <tr style=\"text-align: right;\">\n",
       "      <th></th>\n",
       "      <th>LYLTY_CARD_NBR</th>\n",
       "      <th>LIFESTAGE</th>\n",
       "      <th>PREMIUM_CUSTOMER</th>\n",
       "    </tr>\n",
       "  </thead>\n",
       "  <tbody>\n",
       "  </tbody>\n",
       "</table>\n",
       "</div>"
      ],
      "text/plain": [
       "Empty DataFrame\n",
       "Columns: [LYLTY_CARD_NBR, LIFESTAGE, PREMIUM_CUSTOMER]\n",
       "Index: []"
      ]
     },
     "execution_count": 103,
     "metadata": {},
     "output_type": "execute_result"
    }
   ],
   "source": [
    "purchase_behaviour[purchase_behaviour['LYLTY_CARD_NBR'] == 2260000]"
   ]
  },
  {
   "cell_type": "code",
   "execution_count": 104,
   "metadata": {},
   "outputs": [
    {
     "data": {
      "text/html": [
       "<div>\n",
       "<style scoped>\n",
       "    .dataframe tbody tr th:only-of-type {\n",
       "        vertical-align: middle;\n",
       "    }\n",
       "\n",
       "    .dataframe tbody tr th {\n",
       "        vertical-align: top;\n",
       "    }\n",
       "\n",
       "    .dataframe thead th {\n",
       "        text-align: right;\n",
       "    }\n",
       "</style>\n",
       "<table border=\"1\" class=\"dataframe\">\n",
       "  <thead>\n",
       "    <tr style=\"text-align: right;\">\n",
       "      <th></th>\n",
       "      <th>DATE</th>\n",
       "      <th>STORE_NBR</th>\n",
       "      <th>LYLTY_CARD_NBR</th>\n",
       "      <th>TXN_ID</th>\n",
       "      <th>PROD_NBR</th>\n",
       "      <th>PROD_NAME</th>\n",
       "      <th>PROD_QTY</th>\n",
       "      <th>TOT_SALES</th>\n",
       "      <th>PACK_SIZE</th>\n",
       "      <th>BRAND</th>\n",
       "      <th>TYPE</th>\n",
       "    </tr>\n",
       "  </thead>\n",
       "  <tbody>\n",
       "  </tbody>\n",
       "</table>\n",
       "</div>"
      ],
      "text/plain": [
       "Empty DataFrame\n",
       "Columns: [DATE, STORE_NBR, LYLTY_CARD_NBR, TXN_ID, PROD_NBR, PROD_NAME, PROD_QTY, TOT_SALES, PACK_SIZE, BRAND, TYPE]\n",
       "Index: []"
      ]
     },
     "execution_count": 104,
     "metadata": {},
     "output_type": "execute_result"
    }
   ],
   "source": [
    "td_clean[td_clean['LYLTY_CARD_NBR'] == 2260000]"
   ]
  },
  {
   "cell_type": "code",
   "execution_count": 105,
   "metadata": {},
   "outputs": [],
   "source": [
    "td_clean = td_clean.drop(td_clean[td_clean['PROD_QTY'] == td_clean['PROD_QTY'].max()].index)"
   ]
  },
  {
   "cell_type": "code",
   "execution_count": 106,
   "metadata": {},
   "outputs": [
    {
     "data": {
      "image/png": "[encoded data removed]",
      "text/plain": [
       "<Figure size 800x800 with 2 Axes>"
      ]
     },
     "metadata": {},
     "output_type": "display_data"
    }
   ],
   "source": [
    "fig, axis = plt.subplots(1, 2)\n",
    "\n",
    "# Needs to be bigger or the x labels are covered by titles.\n",
    "fig.set_size_inches(8, 8)\n",
    "\n",
    "ax1 = axis[0]\n",
    "ax2 = axis[1]\n",
    "\n",
    "ax1.boxplot(td_clean['PROD_QTY'])\n",
    "ax1.set_title(\"Product Quantity Box Plot\")\n",
    "ax1.set_ylabel(\"Product Quantity\")\n",
    "ax1.axes.get_xaxis().set_visible(False)\n",
    "\n",
    "ax2.boxplot(td_clean['TOT_SALES'])\n",
    "ax2.set_title(\"Total Sales Boxplot\")\n",
    "ax2.set_ylabel(\"Total Sales\")\n",
    "ax2.axes.get_xaxis().set_visible(False)"
   ]
  },
  {
   "cell_type": "code",
   "execution_count": 107,
   "metadata": {},
   "outputs": [
    {
     "name": "stdout",
     "output_type": "stream",
     "text": [
      "Lowerbound: 0.8789581682880749, Upperbound: 2.9339542091132382\n",
      "Lowerbound: -0.10857882522752949, Upperbound: 14.74080464998233\n"
     ]
    }
   ],
   "source": [
    "calc_outlier_bounds_normal('PROD_QTY')\n",
    "calc_outlier_bounds_normal('TOT_SALES')"
   ]
  },
  {
   "cell_type": "markdown",
   "metadata": {},
   "source": [
    "Our outlier bounds seem to indicate outliers still exist, however we can apply a certain amount of common sense, and chalk it down to the fact that certain situations are just more common. It is entirely sensible for 30 packets to be kept of a popular/trending chip packet."
   ]
  },
  {
   "cell_type": "markdown",
   "metadata": {},
   "source": [
    "We can safely remove the PROD_NAME column now"
   ]
  },
  {
   "cell_type": "code",
   "execution_count": 108,
   "metadata": {},
   "outputs": [],
   "source": [
    "td_clean = td_clean.drop('PROD_NAME', axis=1)"
   ]
  },
  {
   "cell_type": "code",
   "execution_count": 109,
   "metadata": {},
   "outputs": [
    {
     "data": {
      "text/html": [
       "<div>\n",
       "<style scoped>\n",
       "    .dataframe tbody tr th:only-of-type {\n",
       "        vertical-align: middle;\n",
       "    }\n",
       "\n",
       "    .dataframe tbody tr th {\n",
       "        vertical-align: top;\n",
       "    }\n",
       "\n",
       "    .dataframe thead th {\n",
       "        text-align: right;\n",
       "    }\n",
       "</style>\n",
       "<table border=\"1\" class=\"dataframe\">\n",
       "  <thead>\n",
       "    <tr style=\"text-align: right;\">\n",
       "      <th></th>\n",
       "      <th>DATE</th>\n",
       "      <th>STORE_NBR</th>\n",
       "      <th>LYLTY_CARD_NBR</th>\n",
       "      <th>TXN_ID</th>\n",
       "      <th>PROD_NBR</th>\n",
       "      <th>PROD_QTY</th>\n",
       "      <th>TOT_SALES</th>\n",
       "      <th>PACK_SIZE</th>\n",
       "      <th>BRAND</th>\n",
       "      <th>TYPE</th>\n",
       "    </tr>\n",
       "  </thead>\n",
       "  <tbody>\n",
       "    <tr>\n",
       "      <th>0</th>\n",
       "      <td>2018-10-17</td>\n",
       "      <td>1</td>\n",
       "      <td>1000</td>\n",
       "      <td>1</td>\n",
       "      <td>5</td>\n",
       "      <td>2</td>\n",
       "      <td>6.0</td>\n",
       "      <td>175</td>\n",
       "      <td>NCC</td>\n",
       "      <td>Chip        Compny SeaSalt</td>\n",
       "    </tr>\n",
       "    <tr>\n",
       "      <th>1</th>\n",
       "      <td>2019-05-14</td>\n",
       "      <td>1</td>\n",
       "      <td>1307</td>\n",
       "      <td>348</td>\n",
       "      <td>66</td>\n",
       "      <td>3</td>\n",
       "      <td>6.3</td>\n",
       "      <td>175</td>\n",
       "      <td>CCs</td>\n",
       "      <td>Nacho Cheese</td>\n",
       "    </tr>\n",
       "    <tr>\n",
       "      <th>2</th>\n",
       "      <td>2019-05-20</td>\n",
       "      <td>1</td>\n",
       "      <td>1343</td>\n",
       "      <td>383</td>\n",
       "      <td>61</td>\n",
       "      <td>2</td>\n",
       "      <td>2.9</td>\n",
       "      <td>170</td>\n",
       "      <td>Smiths</td>\n",
       "      <td>Crinkle Cut  Chips Chicken</td>\n",
       "    </tr>\n",
       "    <tr>\n",
       "      <th>3</th>\n",
       "      <td>2018-08-17</td>\n",
       "      <td>2</td>\n",
       "      <td>2373</td>\n",
       "      <td>974</td>\n",
       "      <td>69</td>\n",
       "      <td>5</td>\n",
       "      <td>15.0</td>\n",
       "      <td>175</td>\n",
       "      <td>Smiths</td>\n",
       "      <td>Chip Thinly  S/Cream&amp;Onion</td>\n",
       "    </tr>\n",
       "    <tr>\n",
       "      <th>4</th>\n",
       "      <td>2018-08-18</td>\n",
       "      <td>2</td>\n",
       "      <td>2426</td>\n",
       "      <td>1038</td>\n",
       "      <td>108</td>\n",
       "      <td>3</td>\n",
       "      <td>13.8</td>\n",
       "      <td>150</td>\n",
       "      <td>Kettle</td>\n",
       "      <td>Tortilla ChpsHny&amp;Jlpno Chili</td>\n",
       "    </tr>\n",
       "  </tbody>\n",
       "</table>\n",
       "</div>"
      ],
      "text/plain": [
       "        DATE  STORE_NBR  LYLTY_CARD_NBR  TXN_ID  PROD_NBR  PROD_QTY  \\\n",
       "0 2018-10-17          1            1000       1         5         2   \n",
       "1 2019-05-14          1            1307     348        66         3   \n",
       "2 2019-05-20          1            1343     383        61         2   \n",
       "3 2018-08-17          2            2373     974        69         5   \n",
       "4 2018-08-18          2            2426    1038       108         3   \n",
       "\n",
       "   TOT_SALES  PACK_SIZE   BRAND                          TYPE  \n",
       "0        6.0        175     NCC    Chip        Compny SeaSalt  \n",
       "1        6.3        175     CCs                  Nacho Cheese  \n",
       "2        2.9        170  Smiths    Crinkle Cut  Chips Chicken  \n",
       "3       15.0        175  Smiths    Chip Thinly  S/Cream&Onion  \n",
       "4       13.8        150  Kettle  Tortilla ChpsHny&Jlpno Chili  "
      ]
     },
     "execution_count": 109,
     "metadata": {},
     "output_type": "execute_result"
    }
   ],
   "source": [
    "td_clean.head()"
   ]
  },
  {
   "cell_type": "markdown",
   "metadata": {},
   "source": [
    "## Analysis"
   ]
  },
  {
   "cell_type": "code",
   "execution_count": 110,
   "metadata": {},
   "outputs": [
    {
     "data": {
      "text/plain": [
       "364"
      ]
     },
     "execution_count": 110,
     "metadata": {},
     "output_type": "execute_result"
    }
   ],
   "source": [
    "len(td_clean.DATE.unique())"
   ]
  },
  {
   "cell_type": "code",
   "execution_count": 111,
   "metadata": {},
   "outputs": [
    {
     "name": "stdout",
     "output_type": "stream",
     "text": [
      "             DATE  STORE_NBR  LYLTY_CARD_NBR    TXN_ID  PROD_NBR  PROD_QTY  \\\n",
      "0      2018-07-01       47.0         47142.0   42540.0      14.0       2.0   \n",
      "1      2018-07-01       55.0         55073.0   48884.0      99.0       2.0   \n",
      "2      2018-07-01       55.0         55073.0   48884.0      91.0       2.0   \n",
      "3      2018-07-01       58.0         58351.0   54374.0     102.0       2.0   \n",
      "4      2018-07-01       68.0         68193.0   65598.0      44.0       2.0   \n",
      "...           ...        ...             ...       ...       ...       ...   \n",
      "246736 2019-06-30      242.0        242159.0  246222.0      36.0       2.0   \n",
      "246737 2019-06-30      244.0        244213.0  247339.0      93.0       2.0   \n",
      "246738 2019-06-30      256.0        256018.0  255130.0     105.0       2.0   \n",
      "246739 2019-06-30      257.0        257079.0  256218.0      71.0       2.0   \n",
      "246740 2019-06-30      265.0        265006.0  263307.0     106.0       1.0   \n",
      "\n",
      "        TOT_SALES  PACK_SIZE       BRAND                        TYPE  \n",
      "0            11.8      380.0      Smiths  Crnkle Chip  Orgnl Big Bag  \n",
      "1             7.4      134.0    Pringles          Sthrn FriedChicken  \n",
      "2             4.2      175.0         CCs                Tasty Cheese  \n",
      "3            10.8      175.0      Kettle  Mozzarella   Basil & Pesto  \n",
      "4             6.6      175.0       Thins         Chips Light&  Tangy  \n",
      "...           ...        ...         ...                         ...  \n",
      "246736       10.8      175.0      Kettle                      Chilli  \n",
      "246737        7.8      150.0     Doritos  Corn Chip Southern Chicken  \n",
      "246738        3.6      190.0  Woolworths              Cheese   Rings  \n",
      "246739        8.6      250.0    Twisties           Cheese     Burger  \n",
      "246740        3.0      175.0         NCC  ChipCo      Hony Soy Chckn  \n",
      "\n",
      "[246741 rows x 10 columns]\n"
     ]
    }
   ],
   "source": [
    "date_range = pd.date_range(start='2018-07-01', end='2019-06-30')\n",
    "\n",
    "# Create a DataFrame with the full date range\n",
    "all_dates = pd.DataFrame({'DATE': date_range})\n",
    "\n",
    "# Merge the full date range with the original data\n",
    "transactions_complete = all_dates.merge(td_clean, on='DATE', how='left').fillna(0)\n",
    "\n",
    "# Display the completed DataFrame (with missing dates filled)\n",
    "print(transactions_complete)"
   ]
  },
  {
   "cell_type": "code",
   "execution_count": 112,
   "metadata": {},
   "outputs": [
    {
     "data": {
      "image/png": "[encoded data removed]",
      "text/plain": [
       "<Figure size 1200x600 with 1 Axes>"
      ]
     },
     "metadata": {},
     "output_type": "display_data"
    }
   ],
   "source": [
    "# Count the number of transactions per day\n",
    "transactions_per_day = transactions_complete.groupby('DATE').size().reset_index(name='Transaction_Count')\n",
    "\n",
    "plt.figure(figsize=(12, 6))\n",
    "plt.plot(transactions_per_day['DATE'], transactions_per_day['Transaction_Count'], linestyle='-', marker=None)\n",
    "plt.xlabel('Date')\n",
    "plt.ylabel('Number of Transactions')\n",
    "plt.title('Daily Transaction Counts (1 Jul 2018 to 30 Jun 2019)')\n",
    "plt.xticks(rotation=90)  # Rotate x-axis labels to prevent overlap\n",
    "plt.grid(True)\n",
    "plt.tight_layout()  # Adjust layout for better fit\n",
    "plt.show()"
   ]
  },
  {
   "cell_type": "code",
   "execution_count": 113,
   "metadata": {},
   "outputs": [
    {
     "data": {
      "image/png": "[encoded data removed]",
      "text/plain": [
       "<Figure size 1200x600 with 1 Axes>"
      ]
     },
     "metadata": {},
     "output_type": "display_data"
    }
   ],
   "source": [
    "# Filter for December 2018\n",
    "december_transactions = transactions_per_day[transactions_per_day['DATE'].dt.month == 12]\n",
    "december_transactions = december_transactions[december_transactions['DATE'].dt.year == 2018]\n",
    "plt.figure(figsize=(12, 6))\n",
    "plt.plot(december_transactions['DATE'], december_transactions['Transaction_Count'], linestyle='-', marker=None, color='b')\n",
    "plt.xlabel('Date')\n",
    "plt.ylabel('Number of Transactions')\n",
    "plt.title('Daily Transaction Counts in December 2018')\n",
    "plt.xticks(rotation=45)  # Rotate x-axis labels for better readability\n",
    "plt.grid(True)\n",
    "plt.tight_layout()\n",
    "plt.show()"
   ]
  },
  {
   "cell_type": "markdown",
   "metadata": {},
   "source": [
    "Merge and check for nulls then export to data.csv file. "
   ]
  },
  {
   "cell_type": "code",
   "execution_count": 114,
   "metadata": {},
   "outputs": [
    {
     "name": "stdout",
     "output_type": "stream",
     "text": [
      "Number of transactions without matched customer details: 0\n"
     ]
    }
   ],
   "source": [
    "data = td_clean.merge(purchase_behaviour, how='left', on='LYLTY_CARD_NBR')  \n",
    "missing_customers = data[data['LYLTY_CARD_NBR'].isnull()]  \n",
    "print(f\"Number of transactions without matched customer details: {missing_customers.shape[0]}\")\n",
    "for col in data.columns:\n",
    "    if data[col].hasnans:\n",
    "        print(col)"
   ]
  },
  {
   "cell_type": "code",
   "execution_count": 115,
   "metadata": {},
   "outputs": [
    {
     "data": {
      "text/html": [
       "<div>\n",
       "<style scoped>\n",
       "    .dataframe tbody tr th:only-of-type {\n",
       "        vertical-align: middle;\n",
       "    }\n",
       "\n",
       "    .dataframe tbody tr th {\n",
       "        vertical-align: top;\n",
       "    }\n",
       "\n",
       "    .dataframe thead th {\n",
       "        text-align: right;\n",
       "    }\n",
       "</style>\n",
       "<table border=\"1\" class=\"dataframe\">\n",
       "  <thead>\n",
       "    <tr style=\"text-align: right;\">\n",
       "      <th></th>\n",
       "      <th>DATE</th>\n",
       "      <th>STORE_NBR</th>\n",
       "      <th>LYLTY_CARD_NBR</th>\n",
       "      <th>TXN_ID</th>\n",
       "      <th>PROD_NBR</th>\n",
       "      <th>PROD_QTY</th>\n",
       "      <th>TOT_SALES</th>\n",
       "      <th>PACK_SIZE</th>\n",
       "      <th>BRAND</th>\n",
       "      <th>TYPE</th>\n",
       "      <th>LIFESTAGE</th>\n",
       "      <th>PREMIUM_CUSTOMER</th>\n",
       "    </tr>\n",
       "  </thead>\n",
       "  <tbody>\n",
       "    <tr>\n",
       "      <th>0</th>\n",
       "      <td>2018-10-17</td>\n",
       "      <td>1</td>\n",
       "      <td>1000</td>\n",
       "      <td>1</td>\n",
       "      <td>5</td>\n",
       "      <td>2</td>\n",
       "      <td>6.0</td>\n",
       "      <td>175</td>\n",
       "      <td>NCC</td>\n",
       "      <td>Chip        Compny SeaSalt</td>\n",
       "      <td>YOUNG SINGLES/COUPLES</td>\n",
       "      <td>Premium</td>\n",
       "    </tr>\n",
       "    <tr>\n",
       "      <th>1</th>\n",
       "      <td>2019-05-14</td>\n",
       "      <td>1</td>\n",
       "      <td>1307</td>\n",
       "      <td>348</td>\n",
       "      <td>66</td>\n",
       "      <td>3</td>\n",
       "      <td>6.3</td>\n",
       "      <td>175</td>\n",
       "      <td>CCs</td>\n",
       "      <td>Nacho Cheese</td>\n",
       "      <td>MIDAGE SINGLES/COUPLES</td>\n",
       "      <td>Budget</td>\n",
       "    </tr>\n",
       "    <tr>\n",
       "      <th>2</th>\n",
       "      <td>2019-05-20</td>\n",
       "      <td>1</td>\n",
       "      <td>1343</td>\n",
       "      <td>383</td>\n",
       "      <td>61</td>\n",
       "      <td>2</td>\n",
       "      <td>2.9</td>\n",
       "      <td>170</td>\n",
       "      <td>Smiths</td>\n",
       "      <td>Crinkle Cut  Chips Chicken</td>\n",
       "      <td>MIDAGE SINGLES/COUPLES</td>\n",
       "      <td>Budget</td>\n",
       "    </tr>\n",
       "    <tr>\n",
       "      <th>3</th>\n",
       "      <td>2018-08-17</td>\n",
       "      <td>2</td>\n",
       "      <td>2373</td>\n",
       "      <td>974</td>\n",
       "      <td>69</td>\n",
       "      <td>5</td>\n",
       "      <td>15.0</td>\n",
       "      <td>175</td>\n",
       "      <td>Smiths</td>\n",
       "      <td>Chip Thinly  S/Cream&amp;Onion</td>\n",
       "      <td>MIDAGE SINGLES/COUPLES</td>\n",
       "      <td>Budget</td>\n",
       "    </tr>\n",
       "    <tr>\n",
       "      <th>4</th>\n",
       "      <td>2018-08-18</td>\n",
       "      <td>2</td>\n",
       "      <td>2426</td>\n",
       "      <td>1038</td>\n",
       "      <td>108</td>\n",
       "      <td>3</td>\n",
       "      <td>13.8</td>\n",
       "      <td>150</td>\n",
       "      <td>Kettle</td>\n",
       "      <td>Tortilla ChpsHny&amp;Jlpno Chili</td>\n",
       "      <td>MIDAGE SINGLES/COUPLES</td>\n",
       "      <td>Budget</td>\n",
       "    </tr>\n",
       "  </tbody>\n",
       "</table>\n",
       "</div>"
      ],
      "text/plain": [
       "        DATE  STORE_NBR  LYLTY_CARD_NBR  TXN_ID  PROD_NBR  PROD_QTY  \\\n",
       "0 2018-10-17          1            1000       1         5         2   \n",
       "1 2019-05-14          1            1307     348        66         3   \n",
       "2 2019-05-20          1            1343     383        61         2   \n",
       "3 2018-08-17          2            2373     974        69         5   \n",
       "4 2018-08-18          2            2426    1038       108         3   \n",
       "\n",
       "   TOT_SALES  PACK_SIZE   BRAND                          TYPE  \\\n",
       "0        6.0        175     NCC    Chip        Compny SeaSalt   \n",
       "1        6.3        175     CCs                  Nacho Cheese   \n",
       "2        2.9        170  Smiths    Crinkle Cut  Chips Chicken   \n",
       "3       15.0        175  Smiths    Chip Thinly  S/Cream&Onion   \n",
       "4       13.8        150  Kettle  Tortilla ChpsHny&Jlpno Chili   \n",
       "\n",
       "                LIFESTAGE PREMIUM_CUSTOMER  \n",
       "0   YOUNG SINGLES/COUPLES          Premium  \n",
       "1  MIDAGE SINGLES/COUPLES           Budget  \n",
       "2  MIDAGE SINGLES/COUPLES           Budget  \n",
       "3  MIDAGE SINGLES/COUPLES           Budget  \n",
       "4  MIDAGE SINGLES/COUPLES           Budget  "
      ]
     },
     "execution_count": 115,
     "metadata": {},
     "output_type": "execute_result"
    }
   ],
   "source": [
    "data.head()"
   ]
  },
  {
   "cell_type": "code",
   "execution_count": 116,
   "metadata": {},
   "outputs": [],
   "source": [
    "data.to_csv(\"resources/data.csv\", index=False)"
   ]
  },
  {
   "cell_type": "markdown",
   "metadata": {},
   "source": [
    "## Analysis"
   ]
  },
  {
   "cell_type": "markdown",
   "metadata": {},
   "source": [
    "- Who spends the most on chips (total sales), describing customers by lifestage and how premium their general purchasing behaviour is\n",
    "\n",
    "- How many customers are in each segment\n",
    "\n",
    "- How many chips are bought per customer by segment\n",
    "\n",
    "- What's the average chip price by customer segment\n",
    "\n",
    "We could also ask our data team for more information. Examples are:\n",
    "\n",
    "- The customer's total spend over the period and total spend for each transaction to understand what proportion of their grocery spend is on chips \n",
    "\n",
    "- Proportion of customers in each customer segment overall to compare against the mix of customers who purchase chips"
   ]
  },
  {
   "cell_type": "markdown",
   "metadata": {},
   "source": [
    "Total Sales by Lifestage"
   ]
  },
  {
   "cell_type": "code",
   "execution_count": 117,
   "metadata": {},
   "outputs": [],
   "source": [
    "data = pd.read_csv(\"resources/data.csv\")"
   ]
  },
  {
   "cell_type": "code",
   "execution_count": 118,
   "metadata": {},
   "outputs": [],
   "source": [
    "lifestage_sales = data.groupby('LIFESTAGE').agg({\n",
    "    'TOT_SALES': 'sum'\n",
    "}).reset_index()"
   ]
  },
  {
   "cell_type": "code",
   "execution_count": 119,
   "metadata": {},
   "outputs": [
    {
     "data": {
      "text/html": [
       "<div>\n",
       "<style scoped>\n",
       "    .dataframe tbody tr th:only-of-type {\n",
       "        vertical-align: middle;\n",
       "    }\n",
       "\n",
       "    .dataframe tbody tr th {\n",
       "        vertical-align: top;\n",
       "    }\n",
       "\n",
       "    .dataframe thead th {\n",
       "        text-align: right;\n",
       "    }\n",
       "</style>\n",
       "<table border=\"1\" class=\"dataframe\">\n",
       "  <thead>\n",
       "    <tr style=\"text-align: right;\">\n",
       "      <th></th>\n",
       "      <th>LIFESTAGE</th>\n",
       "      <th>TOT_SALES</th>\n",
       "    </tr>\n",
       "  </thead>\n",
       "  <tbody>\n",
       "    <tr>\n",
       "      <th>0</th>\n",
       "      <td>MIDAGE SINGLES/COUPLES</td>\n",
       "      <td>172523.80</td>\n",
       "    </tr>\n",
       "    <tr>\n",
       "      <th>1</th>\n",
       "      <td>NEW FAMILIES</td>\n",
       "      <td>47347.95</td>\n",
       "    </tr>\n",
       "    <tr>\n",
       "      <th>2</th>\n",
       "      <td>OLDER FAMILIES</td>\n",
       "      <td>328519.90</td>\n",
       "    </tr>\n",
       "    <tr>\n",
       "      <th>3</th>\n",
       "      <td>OLDER SINGLES/COUPLES</td>\n",
       "      <td>376019.65</td>\n",
       "    </tr>\n",
       "    <tr>\n",
       "      <th>4</th>\n",
       "      <td>RETIREES</td>\n",
       "      <td>342381.90</td>\n",
       "    </tr>\n",
       "    <tr>\n",
       "      <th>5</th>\n",
       "      <td>YOUNG FAMILIES</td>\n",
       "      <td>294627.90</td>\n",
       "    </tr>\n",
       "    <tr>\n",
       "      <th>6</th>\n",
       "      <td>YOUNG SINGLES/COUPLES</td>\n",
       "      <td>243756.60</td>\n",
       "    </tr>\n",
       "  </tbody>\n",
       "</table>\n",
       "</div>"
      ],
      "text/plain": [
       "                LIFESTAGE  TOT_SALES\n",
       "0  MIDAGE SINGLES/COUPLES  172523.80\n",
       "1            NEW FAMILIES   47347.95\n",
       "2          OLDER FAMILIES  328519.90\n",
       "3   OLDER SINGLES/COUPLES  376019.65\n",
       "4                RETIREES  342381.90\n",
       "5          YOUNG FAMILIES  294627.90\n",
       "6   YOUNG SINGLES/COUPLES  243756.60"
      ]
     },
     "execution_count": 119,
     "metadata": {},
     "output_type": "execute_result"
    }
   ],
   "source": [
    "lifestage_sales"
   ]
  },
  {
   "cell_type": "code",
   "execution_count": 127,
   "metadata": {},
   "outputs": [],
   "source": [
    "lifestage_ordering = ['YOUNG SINGLES/COUPLES', 'MIDAGE SINGLES/COUPLES', 'OLDER SINGLES/COUPLES', \n",
    "                      'RETIREES', 'NEW FAMILIES', 'YOUNG FAMILIES', 'OLDER FAMILIES']\n",
    "lifestage_sales['LIFESTAGE'] = pd.Categorical(lifestage_sales['LIFESTAGE'], categories=lifestage_ordering, ordered=True)\n",
    "lifestage_sales = lifestage_sales.sort_values(by='LIFESTAGE', ignore_index=True)\n"
   ]
  },
  {
   "cell_type": "code",
   "execution_count": null,
   "metadata": {},
   "outputs": [
    {
     "ename": "NameError",
     "evalue": "name 'plt' is not defined",
     "output_type": "error",
     "traceback": [
      "\u001b[1;31m---------------------------------------------------------------------------\u001b[0m",
      "\u001b[1;31mNameError\u001b[0m                                 Traceback (most recent call last)",
      "Cell \u001b[1;32mIn[1], line 1\u001b[0m\n\u001b[1;32m----> 1\u001b[0m \u001b[43mplt\u001b[49m\u001b[38;5;241m.\u001b[39mfigure(figsize\u001b[38;5;241m=\u001b[39m(\u001b[38;5;241m16\u001b[39m, \u001b[38;5;241m9\u001b[39m))\n\u001b[0;32m      2\u001b[0m plt\u001b[38;5;241m.\u001b[39mbar(lifestage_sales[\u001b[38;5;124m'\u001b[39m\u001b[38;5;124mLIFESTAGE\u001b[39m\u001b[38;5;124m'\u001b[39m], lifestage_sales[\u001b[38;5;124m'\u001b[39m\u001b[38;5;124mTOT_SALES\u001b[39m\u001b[38;5;124m'\u001b[39m])\n\u001b[0;32m      3\u001b[0m plt\u001b[38;5;241m.\u001b[39mtitle(\u001b[38;5;124m\"\u001b[39m\u001b[38;5;124mTotal Sales by life stage\u001b[39m\u001b[38;5;124m\"\u001b[39m)\n",
      "\u001b[1;31mNameError\u001b[0m: name 'plt' is not defined"
     ]
    }
   ],
   "source": [
    "plt.figure(figsize=(16, 9))\n",
    "plt.bar(lifestage_sales['LIFESTAGE'], lifestage_sales['TOT_SALES'])\n",
    "plt.title(\"Total Sales by life stage\")\n",
    "plt.xlabel(\"Life Stage\")\n",
    "plt.tight_layout()\n",
    "plt.ylabel(\"Total Sales\")\n",
    "plt.ylim(0, 400000)"
   ]
  }
 ],
 "metadata": {
  "kernelspec": {
   "display_name": "venv",
   "language": "python",
   "name": "python3"
  },
  "language_info": {
   "codemirror_mode": {
    "name": "ipython",
    "version": 3
   },
   "file_extension": ".py",
   "mimetype": "text/x-python",
   "name": "python",
   "nbconvert_exporter": "python",
   "pygments_lexer": "ipython3",
   "version": "3.12.6"
  }
 },
 "nbformat": 4,
 "nbformat_minor": 2
}
